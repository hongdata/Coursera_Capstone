{
 "cells": [
  {
   "cell_type": "code",
   "execution_count": 1,
   "metadata": {},
   "outputs": [],
   "source": [
    "import requests\n",
    "from bs4 import BeautifulSoup\n",
    "\n",
    "import pandas as pd"
   ]
  },
  {
   "cell_type": "code",
   "execution_count": 2,
   "metadata": {},
   "outputs": [],
   "source": [
    "url = 'https://en.wikipedia.org/wiki/List_of_postal_codes_of_Canada:_M'"
   ]
  },
  {
   "cell_type": "code",
   "execution_count": 3,
   "metadata": {},
   "outputs": [],
   "source": [
    "response = requests.get(url)"
   ]
  },
  {
   "cell_type": "code",
   "execution_count": 4,
   "metadata": {},
   "outputs": [],
   "source": [
    "soup = BeautifulSoup(response.text,'lxml')"
   ]
  },
  {
   "cell_type": "code",
   "execution_count": 5,
   "metadata": {},
   "outputs": [],
   "source": [
    "table = soup.find('table', attrs={'class':'wikitable'})"
   ]
  },
  {
   "cell_type": "code",
   "execution_count": 6,
   "metadata": {},
   "outputs": [],
   "source": [
    "table_rows = table.find_all('tr')"
   ]
  },
  {
   "cell_type": "code",
   "execution_count": 7,
   "metadata": {},
   "outputs": [],
   "source": [
    "res = []\n",
    "for tr in table_rows:\n",
    "    td = tr.find_all('td')\n",
    "    row = [tr.text.strip() for tr in td if tr.text.strip()]\n",
    "    if row:\n",
    "        res.append(row)\n",
    "df = pd.DataFrame(res, columns=[\"Postcode\", \"Borough\", \"Neighbourhood\"])"
   ]
  },
  {
   "cell_type": "code",
   "execution_count": 8,
   "metadata": {},
   "outputs": [],
   "source": [
    "df2 = df[df['Borough'] != 'Not assigned']"
   ]
  },
  {
   "cell_type": "code",
   "execution_count": 9,
   "metadata": {},
   "outputs": [
    {
     "data": {
      "text/html": [
       "<div>\n",
       "<style scoped>\n",
       "    .dataframe tbody tr th:only-of-type {\n",
       "        vertical-align: middle;\n",
       "    }\n",
       "\n",
       "    .dataframe tbody tr th {\n",
       "        vertical-align: top;\n",
       "    }\n",
       "\n",
       "    .dataframe thead th {\n",
       "        text-align: right;\n",
       "    }\n",
       "</style>\n",
       "<table border=\"1\" class=\"dataframe\">\n",
       "  <thead>\n",
       "    <tr style=\"text-align: right;\">\n",
       "      <th></th>\n",
       "      <th>Postcode</th>\n",
       "      <th>Borough</th>\n",
       "      <th>Neighbourhood</th>\n",
       "    </tr>\n",
       "  </thead>\n",
       "  <tbody>\n",
       "    <tr>\n",
       "      <th>8</th>\n",
       "      <td>M7A</td>\n",
       "      <td>Queen's Park</td>\n",
       "      <td>Not assigned</td>\n",
       "    </tr>\n",
       "  </tbody>\n",
       "</table>\n",
       "</div>"
      ],
      "text/plain": [
       "  Postcode       Borough Neighbourhood\n",
       "8      M7A  Queen's Park  Not assigned"
      ]
     },
     "execution_count": 9,
     "metadata": {},
     "output_type": "execute_result"
    }
   ],
   "source": [
    "df2[df2['Neighbourhood'] == 'Not assigned']"
   ]
  },
  {
   "cell_type": "code",
   "execution_count": 10,
   "metadata": {},
   "outputs": [
    {
     "name": "stderr",
     "output_type": "stream",
     "text": [
      "/home/jupyterlab/conda/lib/python3.6/site-packages/pandas/core/indexing.py:190: SettingWithCopyWarning: \n",
      "A value is trying to be set on a copy of a slice from a DataFrame\n",
      "\n",
      "See the caveats in the documentation: http://pandas.pydata.org/pandas-docs/stable/indexing.html#indexing-view-versus-copy\n",
      "  self._setitem_with_indexer(indexer, value)\n",
      "/home/jupyterlab/conda/lib/python3.6/site-packages/ipykernel_launcher.py:1: SettingWithCopyWarning: \n",
      "A value is trying to be set on a copy of a slice from a DataFrame\n",
      "\n",
      "See the caveats in the documentation: http://pandas.pydata.org/pandas-docs/stable/indexing.html#indexing-view-versus-copy\n",
      "  \"\"\"Entry point for launching an IPython kernel.\n"
     ]
    }
   ],
   "source": [
    "df2.loc[df2['Neighbourhood'] == 'Not assigned', 'Neighbourhood'] = df2.loc[df2['Neighbourhood'] == 'Not assigned', 'Borough']"
   ]
  },
  {
   "cell_type": "code",
   "execution_count": 23,
   "metadata": {},
   "outputs": [],
   "source": [
    "df3 = pd.DataFrame(df2.groupby(['Postcode','Borough'])['Neighbourhood'].apply(list))"
   ]
  },
  {
   "cell_type": "code",
   "execution_count": 12,
   "metadata": {},
   "outputs": [],
   "source": [
    "latlong = pd.read_csv('./Geospatial_Coordinates.csv')"
   ]
  },
  {
   "cell_type": "code",
   "execution_count": 16,
   "metadata": {},
   "outputs": [
    {
     "data": {
      "text/html": [
       "<div>\n",
       "<style scoped>\n",
       "    .dataframe tbody tr th:only-of-type {\n",
       "        vertical-align: middle;\n",
       "    }\n",
       "\n",
       "    .dataframe tbody tr th {\n",
       "        vertical-align: top;\n",
       "    }\n",
       "\n",
       "    .dataframe thead th {\n",
       "        text-align: right;\n",
       "    }\n",
       "</style>\n",
       "<table border=\"1\" class=\"dataframe\">\n",
       "  <thead>\n",
       "    <tr style=\"text-align: right;\">\n",
       "      <th></th>\n",
       "      <th>Postal Code</th>\n",
       "      <th>Latitude</th>\n",
       "      <th>Longitude</th>\n",
       "    </tr>\n",
       "  </thead>\n",
       "  <tbody>\n",
       "    <tr>\n",
       "      <th>0</th>\n",
       "      <td>M1B</td>\n",
       "      <td>43.806686</td>\n",
       "      <td>-79.194353</td>\n",
       "    </tr>\n",
       "    <tr>\n",
       "      <th>1</th>\n",
       "      <td>M1C</td>\n",
       "      <td>43.784535</td>\n",
       "      <td>-79.160497</td>\n",
       "    </tr>\n",
       "    <tr>\n",
       "      <th>2</th>\n",
       "      <td>M1E</td>\n",
       "      <td>43.763573</td>\n",
       "      <td>-79.188711</td>\n",
       "    </tr>\n",
       "    <tr>\n",
       "      <th>3</th>\n",
       "      <td>M1G</td>\n",
       "      <td>43.770992</td>\n",
       "      <td>-79.216917</td>\n",
       "    </tr>\n",
       "    <tr>\n",
       "      <th>4</th>\n",
       "      <td>M1H</td>\n",
       "      <td>43.773136</td>\n",
       "      <td>-79.239476</td>\n",
       "    </tr>\n",
       "  </tbody>\n",
       "</table>\n",
       "</div>"
      ],
      "text/plain": [
       "  Postal Code   Latitude  Longitude\n",
       "0         M1B  43.806686 -79.194353\n",
       "1         M1C  43.784535 -79.160497\n",
       "2         M1E  43.763573 -79.188711\n",
       "3         M1G  43.770992 -79.216917\n",
       "4         M1H  43.773136 -79.239476"
      ]
     },
     "execution_count": 16,
     "metadata": {},
     "output_type": "execute_result"
    }
   ],
   "source": [
    "latlong.head()"
   ]
  },
  {
   "cell_type": "code",
   "execution_count": 17,
   "metadata": {},
   "outputs": [],
   "source": [
    "latlong.columns = ['Postcode','Latitude','Longitude' ] "
   ]
  },
  {
   "cell_type": "code",
   "execution_count": null,
   "metadata": {},
   "outputs": [],
   "source": []
  },
  {
   "cell_type": "code",
   "execution_count": 25,
   "metadata": {},
   "outputs": [],
   "source": [
    "df4 = pd.merge(df3, latlong, on = 'Postcode' , how = 'left')"
   ]
  },
  {
   "cell_type": "code",
   "execution_count": 27,
   "metadata": {},
   "outputs": [
    {
     "data": {
      "text/plain": [
       "<bound method NDFrame.head of     Postcode                                      Neighbourhood   Latitude  \\\n",
       "0        M1B                                   [Rouge, Malvern]  43.806686   \n",
       "1        M1C           [Highland Creek, Rouge Hill, Port Union]  43.784535   \n",
       "2        M1E                [Guildwood, Morningside, West Hill]  43.763573   \n",
       "3        M1G                                           [Woburn]  43.770992   \n",
       "4        M1H                                        [Cedarbrae]  43.773136   \n",
       "5        M1J                              [Scarborough Village]  43.744734   \n",
       "6        M1K      [East Birchmount Park, Ionview, Kennedy Park]  43.727929   \n",
       "7        M1L                  [Clairlea, Golden Mile, Oakridge]  43.711112   \n",
       "8        M1M  [Cliffcrest, Cliffside, Scarborough Village West]  43.716316   \n",
       "9        M1N                      [Birch Cliff, Cliffside West]  43.692657   \n",
       "10       M1P  [Dorset Park, Scarborough Town Centre, Wexford...  43.757410   \n",
       "11       M1R                                [Maryvale, Wexford]  43.750072   \n",
       "12       M1S                                        [Agincourt]  43.794200   \n",
       "13       M1T          [Clarks Corners, Sullivan, Tam O'Shanter]  43.781638   \n",
       "14       M1V  [Agincourt North, L'Amoreaux East, Milliken, S...  43.815252   \n",
       "15       M1W                                  [L'Amoreaux West]  43.799525   \n",
       "16       M1X                                      [Upper Rouge]  43.836125   \n",
       "17       M2H                                [Hillcrest Village]  43.803762   \n",
       "18       M2J                     [Fairview, Henry Farm, Oriole]  43.778517   \n",
       "19       M2K                                  [Bayview Village]  43.786947   \n",
       "20       M2L                         [Silver Hills, York Mills]  43.757490   \n",
       "21       M2M                          [Newtonbrook, Willowdale]  43.789053   \n",
       "22       M2N                                 [Willowdale South]  43.770120   \n",
       "23       M2P                                  [York Mills West]  43.752758   \n",
       "24       M2R                                  [Willowdale West]  43.782736   \n",
       "25       M3A                                        [Parkwoods]  43.753259   \n",
       "26       M3B                                  [Don Mills North]  43.745906   \n",
       "27       M3C                 [Flemingdon Park, Don Mills South]  43.725900   \n",
       "28       M3H  [Bathurst Manor, Downsview North, Wilson Heights]  43.754328   \n",
       "29       M3J                  [Northwood Park, York University]  43.767980   \n",
       "..       ...                                                ...        ...   \n",
       "73       M6C                               [Humewood-Cedarvale]  43.693781   \n",
       "74       M6E                              [Caledonia-Fairbanks]  43.689026   \n",
       "75       M6G                                         [Christie]  43.669542   \n",
       "76       M6H                     [Dovercourt Village, Dufferin]  43.669005   \n",
       "77       M6J                         [Little Portugal, Trinity]  43.647927   \n",
       "78       M6K     [Brockton, Exhibition Place, Parkdale Village]  43.636847   \n",
       "79       M6L               [Downsview, North Park, Upwood Park]  43.713756   \n",
       "80       M6M   [Del Ray, Keelesdale, Mount Dennis, Silverthorn]  43.691116   \n",
       "81       M6N                    [The Junction North, Runnymede]  43.673185   \n",
       "82       M6P                    [High Park, The Junction South]  43.661608   \n",
       "83       M6R                           [Parkdale, Roncesvalles]  43.648960   \n",
       "84       M6S                               [Runnymede, Swansea]  43.651571   \n",
       "85       M7A                                     [Queen's Park]  43.662301   \n",
       "86       M7R            [Canada Post Gateway Processing Centre]  43.636966   \n",
       "87       M7Y  [Business Reply Mail Processing Centre 969 Eas...  43.662744   \n",
       "88       M8V     [Humber Bay Shores, Mimico South, New Toronto]  43.605647   \n",
       "89       M8W                           [Alderwood, Long Branch]  43.602414   \n",
       "90       M8X    [The Kingsway, Montgomery Road, Old Mill North]  43.653654   \n",
       "91       M8Y  [Humber Bay, King's Mill Park, Kingsway Park S...  43.636258   \n",
       "92       M8Z  [Kingsway Park South West, Mimico NW, The Quee...  43.628841   \n",
       "93       M9A                                 [Islington Avenue]  43.667856   \n",
       "94       M9B  [Cloverdale, Islington, Martin Grove, Princess...  43.650943   \n",
       "95       M9C  [Bloordale Gardens, Eringate, Markland Wood, O...  43.643515   \n",
       "96       M9L                                    [Humber Summit]  43.756303   \n",
       "97       M9M                                 [Emery, Humberlea]  43.724766   \n",
       "98       M9N                                           [Weston]  43.706876   \n",
       "99       M9P                                        [Westmount]  43.696319   \n",
       "100      M9R  [Kingsview Village, Martin Grove Gardens, Rich...  43.688905   \n",
       "101      M9V  [Albion Gardens, Beaumond Heights, Humbergate,...  43.739416   \n",
       "102      M9W                                        [Northwest]  43.706748   \n",
       "\n",
       "     Longitude  \n",
       "0   -79.194353  \n",
       "1   -79.160497  \n",
       "2   -79.188711  \n",
       "3   -79.216917  \n",
       "4   -79.239476  \n",
       "5   -79.239476  \n",
       "6   -79.262029  \n",
       "7   -79.284577  \n",
       "8   -79.239476  \n",
       "9   -79.264848  \n",
       "10  -79.273304  \n",
       "11  -79.295849  \n",
       "12  -79.262029  \n",
       "13  -79.304302  \n",
       "14  -79.284577  \n",
       "15  -79.318389  \n",
       "16  -79.205636  \n",
       "17  -79.363452  \n",
       "18  -79.346556  \n",
       "19  -79.385975  \n",
       "20  -79.374714  \n",
       "21  -79.408493  \n",
       "22  -79.408493  \n",
       "23  -79.400049  \n",
       "24  -79.442259  \n",
       "25  -79.329656  \n",
       "26  -79.352188  \n",
       "27  -79.340923  \n",
       "28  -79.442259  \n",
       "29  -79.487262  \n",
       "..         ...  \n",
       "73  -79.428191  \n",
       "74  -79.453512  \n",
       "75  -79.422564  \n",
       "76  -79.442259  \n",
       "77  -79.419750  \n",
       "78  -79.428191  \n",
       "79  -79.490074  \n",
       "80  -79.476013  \n",
       "81  -79.487262  \n",
       "82  -79.464763  \n",
       "83  -79.456325  \n",
       "84  -79.484450  \n",
       "85  -79.389494  \n",
       "86  -79.615819  \n",
       "87  -79.321558  \n",
       "88  -79.501321  \n",
       "89  -79.543484  \n",
       "90  -79.506944  \n",
       "91  -79.498509  \n",
       "92  -79.520999  \n",
       "93  -79.532242  \n",
       "94  -79.554724  \n",
       "95  -79.577201  \n",
       "96  -79.565963  \n",
       "97  -79.532242  \n",
       "98  -79.518188  \n",
       "99  -79.532242  \n",
       "100 -79.554724  \n",
       "101 -79.588437  \n",
       "102 -79.594054  \n",
       "\n",
       "[103 rows x 4 columns]>"
      ]
     },
     "execution_count": 27,
     "metadata": {},
     "output_type": "execute_result"
    }
   ],
   "source": [
    "df4.head"
   ]
  },
  {
   "cell_type": "code",
   "execution_count": null,
   "metadata": {},
   "outputs": [],
   "source": []
  }
 ],
 "metadata": {
  "kernelspec": {
   "display_name": "Python 3",
   "language": "python",
   "name": "python3"
  },
  "language_info": {
   "codemirror_mode": {
    "name": "ipython",
    "version": 3
   },
   "file_extension": ".py",
   "mimetype": "text/x-python",
   "name": "python",
   "nbconvert_exporter": "python",
   "pygments_lexer": "ipython3",
   "version": "3.6.8"
  }
 },
 "nbformat": 4,
 "nbformat_minor": 2
}
