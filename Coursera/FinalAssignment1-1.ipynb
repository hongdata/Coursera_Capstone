{
 "cells": [
  {
   "cell_type": "markdown",
   "metadata": {},
   "source": [
    "# FOURSQUARE ASSIGNMENT"
   ]
  },
  {
   "cell_type": "markdown",
   "metadata": {},
   "source": [
    "## Table of Content\n",
    "1. [Description](#1.-Description)\n",
    "1. [Gathering Data](#2.-Gathering-Data)\n",
    "1. [Methodology](#3.-Methodology)\n",
    "1. [Result](#4.-Result)\n",
    "1. [Discussion](#5.-Discussion)\n",
    "1. [Conclusion](#6.-Conclusion)"
   ]
  },
  {
   "cell_type": "markdown",
   "metadata": {},
   "source": [
    "## 1. Description\n",
    "Did you heard about Hallyu ? It means 'Korean Wave'.  \n",
    "One of Korean Wave, foreign visitors frequent increangly.   \n",
    "I work for J.W Mriott Dong-Dae-Moon in KOREA. (not really)     \n",
    "I would like to recommend good restaurant nearby our hotel for our foreign guest.   "
   ]
  },
  {
   "cell_type": "markdown",
   "metadata": {},
   "source": [
    "## 2. Gathering Data\n",
    "To recommend good restaurant for our guest,  \n",
    "I am going to gather restaurant information around J.W Mariott Dong-Dae-Moon using <a href=\"https://developer.foursquare.com/\">FOURSQUARE API</a>  \n",
    "From FOURSQUARE API, I can get information like restaurantname, streetname, detail address(latitude and longitude) about restaurant. \n",
    "\n",
    "To achieve this, using major python libraries like below.  \n",
    "1. requests\n",
    "1. pandas\n",
    "1. numpy\n",
    "1. folium\n",
    "1. geocoders"
   ]
  },
  {
   "cell_type": "code",
   "execution_count": 5,
   "metadata": {},
   "outputs": [],
   "source": [
    "import requests # library to handle requests\n",
    "import pandas as pd # library for data analsysis\n",
    "import numpy as np # library to handle data in a vectorized manner\n",
    "import random # library for random number generation\n",
    "\n",
    "#!conda install -c conda-forge geopy --yes \n",
    "from geopy.geocoders import Nominatim # module to convert an address into latitude and longitude values\n",
    "\n",
    "from IPython.display import Image \n",
    "from IPython.core.display import HTML \n",
    "    \n",
    "# tranforming json file into a pandas dataframe library\n",
    "from pandas.io.json import json_normalize\n",
    "\n",
    "#!conda install -c conda-forge folium=0.5.0 --yes\n",
    "import folium # plotting library"
   ]
  },
  {
   "cell_type": "code",
   "execution_count": 6,
   "metadata": {},
   "outputs": [],
   "source": [
    "CLIENT_ID = '' # your Foursquare ID\n",
    "CLIENT_SECRET = '' # your Foursquare Secret\n",
    "VERSION = '20190408'\n",
    "LIMIT = 30"
   ]
  },
  {
   "cell_type": "code",
   "execution_count": 19,
   "metadata": {
    "scrolled": false
   },
   "outputs": [],
   "source": [
    "address = '종로구 청계천로 279'\n",
    "\n",
    "geolocator = Nominatim(user_agent=\"foursquare_agent\")\n",
    "location = geolocator.geocode(address)\n",
    "latitude = location.latitude\n",
    "longitude = location.longitude\n",
    "\n",
    "search_query = '식당'\n",
    "radius = 1000\n",
    "\n",
    "url = 'https://api.foursquare.com/v2/venues/search?client_id={}&client_secret={}&ll={},{}&v={}&query={}&radius={}&limit={}'.format(CLIENT_ID, CLIENT_SECRET, latitude, longitude, VERSION, search_query, radius, LIMIT)\n",
    "\n",
    "results = requests.get(url).json()\n",
    "\n",
    "# assign relevant part of JSON to venues\n",
    "venues = results['response']['venues']\n",
    "\n",
    "# tranform venues into a dataframe\n",
    "dataframe = json_normalize(venues)"
   ]
  },
  {
   "cell_type": "code",
   "execution_count": 20,
   "metadata": {},
   "outputs": [
    {
     "data": {
      "text/html": [
       "<div>\n",
       "<style scoped>\n",
       "    .dataframe tbody tr th:only-of-type {\n",
       "        vertical-align: middle;\n",
       "    }\n",
       "\n",
       "    .dataframe tbody tr th {\n",
       "        vertical-align: top;\n",
       "    }\n",
       "\n",
       "    .dataframe thead th {\n",
       "        text-align: right;\n",
       "    }\n",
       "</style>\n",
       "<table border=\"1\" class=\"dataframe\">\n",
       "  <thead>\n",
       "    <tr style=\"text-align: right;\">\n",
       "      <th></th>\n",
       "      <th>categories</th>\n",
       "      <th>hasPerk</th>\n",
       "      <th>id</th>\n",
       "      <th>location.address</th>\n",
       "      <th>location.cc</th>\n",
       "      <th>location.city</th>\n",
       "      <th>location.country</th>\n",
       "      <th>location.crossStreet</th>\n",
       "      <th>location.distance</th>\n",
       "      <th>location.formattedAddress</th>\n",
       "      <th>location.labeledLatLngs</th>\n",
       "      <th>location.lat</th>\n",
       "      <th>location.lng</th>\n",
       "      <th>location.neighborhood</th>\n",
       "      <th>location.postalCode</th>\n",
       "      <th>location.state</th>\n",
       "      <th>name</th>\n",
       "      <th>referralId</th>\n",
       "    </tr>\n",
       "  </thead>\n",
       "  <tbody>\n",
       "    <tr>\n",
       "      <th>0</th>\n",
       "      <td>[{'id': '4bf58dd8d48988d113941735', 'name': 'K...</td>\n",
       "      <td>False</td>\n",
       "      <td>4cc8fee9786e4688179c9109</td>\n",
       "      <td>NaN</td>\n",
       "      <td>KR</td>\n",
       "      <td>NaN</td>\n",
       "      <td>대한민국</td>\n",
       "      <td>NaN</td>\n",
       "      <td>244</td>\n",
       "      <td>[광희동, 대한민국]</td>\n",
       "      <td>[{'label': 'display', 'lat': 37.567874, 'lng':...</td>\n",
       "      <td>37.567874</td>\n",
       "      <td>127.011671</td>\n",
       "      <td>NaN</td>\n",
       "      <td>NaN</td>\n",
       "      <td>NaN</td>\n",
       "      <td>보원 식당</td>\n",
       "      <td>v-1554709953</td>\n",
       "    </tr>\n",
       "    <tr>\n",
       "      <th>1</th>\n",
       "      <td>[{'id': '4bf58dd8d48988d1df931735', 'name': 'B...</td>\n",
       "      <td>False</td>\n",
       "      <td>4de8c5251838b9ad8d15f5c1</td>\n",
       "      <td>NaN</td>\n",
       "      <td>KR</td>\n",
       "      <td>NaN</td>\n",
       "      <td>대한민국</td>\n",
       "      <td>NaN</td>\n",
       "      <td>865</td>\n",
       "      <td>[숭인1동, 대한민국]</td>\n",
       "      <td>[{'label': 'display', 'lat': 37.57740002525583...</td>\n",
       "      <td>37.577400</td>\n",
       "      <td>127.015376</td>\n",
       "      <td>NaN</td>\n",
       "      <td>NaN</td>\n",
       "      <td>NaN</td>\n",
       "      <td>청포도 식당</td>\n",
       "      <td>v-1554709953</td>\n",
       "    </tr>\n",
       "    <tr>\n",
       "      <th>2</th>\n",
       "      <td>[{'id': '4bf58dd8d48988d113941735', 'name': 'K...</td>\n",
       "      <td>False</td>\n",
       "      <td>4f436d18e4b09d14bc73f79c</td>\n",
       "      <td>장충단로8길 45</td>\n",
       "      <td>KR</td>\n",
       "      <td>중구</td>\n",
       "      <td>대한민국</td>\n",
       "      <td>NaN</td>\n",
       "      <td>930</td>\n",
       "      <td>[장충단로8길 45, 장충동, 중구, 경기도, 대한민국]</td>\n",
       "      <td>[{'label': 'display', 'lat': 37.562265, 'lng':...</td>\n",
       "      <td>37.562265</td>\n",
       "      <td>127.008423</td>\n",
       "      <td>NaN</td>\n",
       "      <td>NaN</td>\n",
       "      <td>경기도</td>\n",
       "      <td>서씨네 식당</td>\n",
       "      <td>v-1554709953</td>\n",
       "    </tr>\n",
       "    <tr>\n",
       "      <th>3</th>\n",
       "      <td>[{'id': '4bf58dd8d48988d142941735', 'name': 'A...</td>\n",
       "      <td>False</td>\n",
       "      <td>50b88032e4b026fe4a2753ee</td>\n",
       "      <td>NaN</td>\n",
       "      <td>KR</td>\n",
       "      <td>NaN</td>\n",
       "      <td>대한민국</td>\n",
       "      <td>NaN</td>\n",
       "      <td>874</td>\n",
       "      <td>[광희동, 대한민국]</td>\n",
       "      <td>[{'label': 'display', 'lat': 37.56476331656288...</td>\n",
       "      <td>37.564763</td>\n",
       "      <td>127.005162</td>\n",
       "      <td>NaN</td>\n",
       "      <td>NaN</td>\n",
       "      <td>NaN</td>\n",
       "      <td>깔링까 러시아 식당</td>\n",
       "      <td>v-1554709953</td>\n",
       "    </tr>\n",
       "    <tr>\n",
       "      <th>4</th>\n",
       "      <td>[{'id': '4bf58dd8d48988d113941735', 'name': 'K...</td>\n",
       "      <td>False</td>\n",
       "      <td>4f7d60e5e4b09d3099e463d7</td>\n",
       "      <td>NaN</td>\n",
       "      <td>KR</td>\n",
       "      <td>NaN</td>\n",
       "      <td>대한민국</td>\n",
       "      <td>NaN</td>\n",
       "      <td>941</td>\n",
       "      <td>[신당1동, 대한민국]</td>\n",
       "      <td>[{'label': 'display', 'lat': 37.561636, 'lng':...</td>\n",
       "      <td>37.561636</td>\n",
       "      <td>127.010536</td>\n",
       "      <td>NaN</td>\n",
       "      <td>NaN</td>\n",
       "      <td>NaN</td>\n",
       "      <td>가마솥 식당</td>\n",
       "      <td>v-1554709953</td>\n",
       "    </tr>\n",
       "  </tbody>\n",
       "</table>\n",
       "</div>"
      ],
      "text/plain": [
       "                                          categories  hasPerk  \\\n",
       "0  [{'id': '4bf58dd8d48988d113941735', 'name': 'K...    False   \n",
       "1  [{'id': '4bf58dd8d48988d1df931735', 'name': 'B...    False   \n",
       "2  [{'id': '4bf58dd8d48988d113941735', 'name': 'K...    False   \n",
       "3  [{'id': '4bf58dd8d48988d142941735', 'name': 'A...    False   \n",
       "4  [{'id': '4bf58dd8d48988d113941735', 'name': 'K...    False   \n",
       "\n",
       "                         id location.address location.cc location.city  \\\n",
       "0  4cc8fee9786e4688179c9109              NaN          KR           NaN   \n",
       "1  4de8c5251838b9ad8d15f5c1              NaN          KR           NaN   \n",
       "2  4f436d18e4b09d14bc73f79c        장충단로8길 45          KR            중구   \n",
       "3  50b88032e4b026fe4a2753ee              NaN          KR           NaN   \n",
       "4  4f7d60e5e4b09d3099e463d7              NaN          KR           NaN   \n",
       "\n",
       "  location.country location.crossStreet  location.distance  \\\n",
       "0             대한민국                  NaN                244   \n",
       "1             대한민국                  NaN                865   \n",
       "2             대한민국                  NaN                930   \n",
       "3             대한민국                  NaN                874   \n",
       "4             대한민국                  NaN                941   \n",
       "\n",
       "         location.formattedAddress  \\\n",
       "0                      [광희동, 대한민국]   \n",
       "1                     [숭인1동, 대한민국]   \n",
       "2  [장충단로8길 45, 장충동, 중구, 경기도, 대한민국]   \n",
       "3                      [광희동, 대한민국]   \n",
       "4                     [신당1동, 대한민국]   \n",
       "\n",
       "                             location.labeledLatLngs  location.lat  \\\n",
       "0  [{'label': 'display', 'lat': 37.567874, 'lng':...     37.567874   \n",
       "1  [{'label': 'display', 'lat': 37.57740002525583...     37.577400   \n",
       "2  [{'label': 'display', 'lat': 37.562265, 'lng':...     37.562265   \n",
       "3  [{'label': 'display', 'lat': 37.56476331656288...     37.564763   \n",
       "4  [{'label': 'display', 'lat': 37.561636, 'lng':...     37.561636   \n",
       "\n",
       "   location.lng location.neighborhood location.postalCode location.state  \\\n",
       "0    127.011671                   NaN                 NaN            NaN   \n",
       "1    127.015376                   NaN                 NaN            NaN   \n",
       "2    127.008423                   NaN                 NaN            경기도   \n",
       "3    127.005162                   NaN                 NaN            NaN   \n",
       "4    127.010536                   NaN                 NaN            NaN   \n",
       "\n",
       "         name    referralId  \n",
       "0       보원 식당  v-1554709953  \n",
       "1      청포도 식당  v-1554709953  \n",
       "2      서씨네 식당  v-1554709953  \n",
       "3  깔링까 러시아 식당  v-1554709953  \n",
       "4      가마솥 식당  v-1554709953  "
      ]
     },
     "execution_count": 20,
     "metadata": {},
     "output_type": "execute_result"
    }
   ],
   "source": [
    "dataframe.head()"
   ]
  },
  {
   "cell_type": "markdown",
   "metadata": {},
   "source": [
    "## 3. Methodology"
   ]
  },
  {
   "cell_type": "code",
   "execution_count": 21,
   "metadata": {},
   "outputs": [],
   "source": [
    "# keep only columns that include venue name, and anything that is associated with location\n",
    "filtered_columns = ['name', 'categories'] + [col for col in dataframe.columns if col.startswith('location.')] + ['id']\n",
    "dataframe_filtered = dataframe.loc[:, filtered_columns]\n",
    "\n",
    "# function that extracts the category of the venue\n",
    "def get_category_type(row):\n",
    "    try:\n",
    "        categories_list = row['categories']\n",
    "    except:\n",
    "        categories_list = row['venue.categories']\n",
    "        \n",
    "    if len(categories_list) == 0:\n",
    "        return None\n",
    "    else:\n",
    "        return categories_list[0]['name']\n",
    "\n",
    "# filter the category for each row\n",
    "dataframe_filtered['categories'] = dataframe_filtered.apply(get_category_type, axis=1)\n",
    "\n",
    "# clean column names by keeping only last term\n",
    "dataframe_filtered.columns = [column.split('.')[-1] for column in dataframe_filtered.columns]"
   ]
  },
  {
   "cell_type": "code",
   "execution_count": 22,
   "metadata": {},
   "outputs": [
    {
     "data": {
      "text/html": [
       "<div style=\"width:100%;\"><div style=\"position:relative;width:100%;height:0;padding-bottom:60%;\"><iframe src=\"data:text/html;charset=utf-8;base64,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\" style=\"position:absolute;width:100%;height:100%;left:0;top:0;border:none !important;\" allowfullscreen webkitallowfullscreen mozallowfullscreen></iframe></div></div>"
      ],
      "text/plain": [
       "<folium.folium.Map at 0x2e135774cc0>"
      ]
     },
     "execution_count": 22,
     "metadata": {},
     "output_type": "execute_result"
    }
   ],
   "source": [
    "venues_map = folium.Map(location=[latitude, longitude], zoom_start=13) # generate map centred around the Conrad Hotel\n",
    "\n",
    "# add a red circle marker to represent the Conrad Hotel\n",
    "folium.features.CircleMarker(\n",
    "    [latitude, longitude],\n",
    "    radius=10,\n",
    "    color='red',\n",
    "    popup='Conrad Hotel',\n",
    "    fill = True,\n",
    "    fill_color = 'red',\n",
    "    fill_opacity = 0.6\n",
    ").add_to(venues_map)\n",
    "\n",
    "# add the Italian restaurants as blue circle markers\n",
    "for lat, lng, label in zip(dataframe_filtered.lat, dataframe_filtered.lng, dataframe_filtered.categories):\n",
    "    folium.features.CircleMarker(\n",
    "        [lat, lng],\n",
    "        radius=5,\n",
    "        color='blue',\n",
    "        popup=label,\n",
    "        fill = True,\n",
    "        fill_color='blue',\n",
    "        fill_opacity=0.6\n",
    "    ).add_to(venues_map)\n",
    "\n",
    "# display map\n",
    "venues_map"
   ]
  },
  {
   "cell_type": "markdown",
   "metadata": {},
   "source": [
    "## 4. Result"
   ]
  },
  {
   "cell_type": "code",
   "execution_count": null,
   "metadata": {},
   "outputs": [],
   "source": []
  },
  {
   "cell_type": "markdown",
   "metadata": {},
   "source": [
    "## 5. Discussion"
   ]
  },
  {
   "cell_type": "code",
   "execution_count": null,
   "metadata": {},
   "outputs": [],
   "source": []
  },
  {
   "cell_type": "markdown",
   "metadata": {},
   "source": [
    "## 6. Conclusion"
   ]
  },
  {
   "cell_type": "markdown",
   "metadata": {},
   "source": [
    "I am not done yet,  \n",
    "I'm trying to make report now.  \n",
    "But, this time, I have a question now.  \n",
    "Should I make a capstione just use data from FOURSQUARE API ??  \n",
    "After fiding answer, I will modify my report thx :) "
   ]
  },
  {
   "cell_type": "code",
   "execution_count": null,
   "metadata": {},
   "outputs": [],
   "source": []
  }
 ],
 "metadata": {
  "kernelspec": {
   "display_name": "Python 3",
   "language": "python",
   "name": "python3"
  },
  "language_info": {
   "codemirror_mode": {
    "name": "ipython",
    "version": 3
   },
   "file_extension": ".py",
   "mimetype": "text/x-python",
   "name": "python",
   "nbconvert_exporter": "python",
   "pygments_lexer": "ipython3",
   "version": "3.7.1"
  }
 },
 "nbformat": 4,
 "nbformat_minor": 2
}
